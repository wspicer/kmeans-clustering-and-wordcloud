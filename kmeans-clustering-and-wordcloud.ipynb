{
 "cells": [
  {
   "cell_type": "code",
   "execution_count": 1,
   "metadata": {},
   "outputs": [
    {
     "name": "stderr",
     "output_type": "stream",
     "text": [
      "C:\\ProgramData\\Anaconda3\\lib\\site-packages\\sklearn\\cross_validation.py:41: DeprecationWarning: This module was deprecated in version 0.18 in favor of the model_selection module into which all the refactored classes and functions are moved. Also note that the interface of the new CV iterators are different from that of this module. This module will be removed in 0.20.\n",
      "  \"This module will be removed in 0.20.\", DeprecationWarning)\n"
     ]
    }
   ],
   "source": [
    "import nltk\n",
    "import matplotlib.pyplot as plt\n",
    "from wordcloud import WordCloud, STOPWORDS\n",
    "import numpy as np\n",
    "import pandas as pd\n",
    "import string\n",
    "import sqlite3\n",
    "\n",
    "%matplotlib inline\n",
    "\n",
    "from sklearn.feature_extraction.text import TfidfTransformer\n",
    "from sklearn.feature_extraction.text import CountVectorizer\n",
    "from sklearn.cross_validation import train_test_split\n",
    "from sklearn.metrics import confusion_matrix\n",
    "from sklearn import metrics\n",
    "from sklearn.metrics import roc_curve, auc\n",
    "from nltk.stem.porter import PorterStemmer\n",
    "from PIL import Image\n"
   ]
  },
  {
   "cell_type": "code",
   "execution_count": 2,
   "metadata": {
    "collapsed": true
   },
   "outputs": [],
   "source": [
    "#Import data\n",
    "reviews = pd.read_csv('C:/Users/William/Desktop/hb reviews.csv')"
   ]
  },
  {
   "cell_type": "code",
   "execution_count": 3,
   "metadata": {},
   "outputs": [
    {
     "name": "stdout",
     "output_type": "stream",
     "text": [
      "<class 'pandas.core.frame.DataFrame'>\n",
      "RangeIndex: 6844 entries, 0 to 6843\n",
      "Data columns (total 21 columns):\n",
      "Review ID            6844 non-null object\n",
      "Published            6844 non-null object\n",
      "Author               6844 non-null object\n",
      "Source ID            6844 non-null object\n",
      "Source               6844 non-null object\n",
      "Location ID          6844 non-null object\n",
      "External ID          1395 non-null object\n",
      "Location             6844 non-null object\n",
      "Address              6844 non-null object\n",
      "City                 6844 non-null object\n",
      "State                6844 non-null object\n",
      "Zip                  6844 non-null int64\n",
      "Rating               6844 non-null int64\n",
      "Title                6844 non-null object\n",
      "Review               6844 non-null object\n",
      "Extra Information    0 non-null float64\n",
      "URL                  6844 non-null object\n",
      "Status               6844 non-null object\n",
      "Notes                0 non-null float64\n",
      "Tags                 0 non-null float64\n",
      "Responses            435 non-null object\n",
      "dtypes: float64(3), int64(2), object(16)\n",
      "memory usage: 1.1+ MB\n"
     ]
    }
   ],
   "source": [
    "#data info\n",
    "reviews.info()"
   ]
  },
  {
   "cell_type": "code",
   "execution_count": null,
   "metadata": {
    "collapsed": true
   },
   "outputs": [],
   "source": []
  },
  {
   "cell_type": "code",
   "execution_count": 4,
   "metadata": {
    "collapsed": true
   },
   "outputs": [],
   "source": [
    "#Dropping some un-needed columns\n",
    "reviews = reviews.drop(['Notes', 'Tags', 'Extra Information'], axis=1)\n"
   ]
  },
  {
   "cell_type": "code",
   "execution_count": 5,
   "metadata": {},
   "outputs": [
    {
     "name": "stdout",
     "output_type": "stream",
     "text": [
      "<class 'pandas.core.frame.DataFrame'>\n",
      "RangeIndex: 6844 entries, 0 to 6843\n",
      "Data columns (total 18 columns):\n",
      "Review ID      6844 non-null object\n",
      "Published      6844 non-null object\n",
      "Author         6844 non-null object\n",
      "Source ID      6844 non-null object\n",
      "Source         6844 non-null object\n",
      "Location ID    6844 non-null object\n",
      "External ID    1395 non-null object\n",
      "Location       6844 non-null object\n",
      "Address        6844 non-null object\n",
      "City           6844 non-null object\n",
      "State          6844 non-null object\n",
      "Zip            6844 non-null int64\n",
      "Rating         6844 non-null int64\n",
      "Title          6844 non-null object\n",
      "Review         6844 non-null object\n",
      "URL            6844 non-null object\n",
      "Status         6844 non-null object\n",
      "Responses      435 non-null object\n",
      "dtypes: int64(2), object(16)\n",
      "memory usage: 962.5+ KB\n"
     ]
    }
   ],
   "source": [
    "reviews.info()"
   ]
  },
  {
   "cell_type": "code",
   "execution_count": 6,
   "metadata": {},
   "outputs": [
    {
     "data": {
      "text/html": [
       "<div>\n",
       "<style>\n",
       "    .dataframe thead tr:only-child th {\n",
       "        text-align: right;\n",
       "    }\n",
       "\n",
       "    .dataframe thead th {\n",
       "        text-align: left;\n",
       "    }\n",
       "\n",
       "    .dataframe tbody tr th {\n",
       "        vertical-align: top;\n",
       "    }\n",
       "</style>\n",
       "<table border=\"1\" class=\"dataframe\">\n",
       "  <thead>\n",
       "    <tr style=\"text-align: right;\">\n",
       "      <th></th>\n",
       "      <th>Review ID</th>\n",
       "      <th>Published</th>\n",
       "      <th>Author</th>\n",
       "      <th>Source ID</th>\n",
       "      <th>Source</th>\n",
       "      <th>Location ID</th>\n",
       "      <th>External ID</th>\n",
       "      <th>Location</th>\n",
       "      <th>Address</th>\n",
       "      <th>City</th>\n",
       "      <th>State</th>\n",
       "      <th>Zip</th>\n",
       "      <th>Rating</th>\n",
       "      <th>Title</th>\n",
       "      <th>Review</th>\n",
       "      <th>URL</th>\n",
       "      <th>Status</th>\n",
       "      <th>Responses</th>\n",
       "    </tr>\n",
       "  </thead>\n",
       "  <tbody>\n",
       "    <tr>\n",
       "      <th>0</th>\n",
       "      <td>5a7a88104ee9ca00046f91a6</td>\n",
       "      <td>2/7/2018</td>\n",
       "      <td>Luis Pineda</td>\n",
       "      <td>8c88a35d0000003000000000</td>\n",
       "      <td>Facebook</td>\n",
       "      <td>5a724f5c6fbc8917b5317e00</td>\n",
       "      <td>NaN</td>\n",
       "      <td>Hattie B's Hot Chicken - Birmingham, AL</td>\n",
       "      <td>2808 7th Ave S 29 Seven Apartments 101</td>\n",
       "      <td>Birmingham</td>\n",
       "      <td>Alabama</td>\n",
       "      <td>35233</td>\n",
       "      <td>5</td>\n",
       "      <td>������� 1st time...</td>\n",
       "      <td>������� 1st time trying the B'ham location an...</td>\n",
       "      <td>https://www.facebook.com/Hattiebham/reviews</td>\n",
       "      <td>--</td>\n",
       "      <td>NaN</td>\n",
       "    </tr>\n",
       "    <tr>\n",
       "      <th>1</th>\n",
       "      <td>5a7b4dc1621b990004b348a2</td>\n",
       "      <td>2/7/2018</td>\n",
       "      <td>Rodger Brummett</td>\n",
       "      <td>8c88a35d0000000800000000</td>\n",
       "      <td>TripAdvisor</td>\n",
       "      <td>5a724da73f8a4515c330e5b4</td>\n",
       "      <td>NaN</td>\n",
       "      <td>Hattie B's Hot Chicken - Midtown Nashville, TN</td>\n",
       "      <td>112 19th Ave S</td>\n",
       "      <td>Nashville</td>\n",
       "      <td>Tennessee</td>\n",
       "      <td>37203</td>\n",
       "      <td>5</td>\n",
       "      <td>Great food</td>\n",
       "      <td>Really enjoyed the hot chicken.   Would recom...</td>\n",
       "      <td>http://www.tripadvisor.com/Restaurant_Review-g...</td>\n",
       "      <td>--</td>\n",
       "      <td>NaN</td>\n",
       "    </tr>\n",
       "    <tr>\n",
       "      <th>2</th>\n",
       "      <td>5a7b4dc08cde5000045c28de</td>\n",
       "      <td>2/7/2018</td>\n",
       "      <td>Stefanie Howerton</td>\n",
       "      <td>8c88a35d0000003000000000</td>\n",
       "      <td>Facebook</td>\n",
       "      <td>5a724da73f8a4515c330e5b4</td>\n",
       "      <td>NaN</td>\n",
       "      <td>Hattie B's Hot Chicken - Midtown Nashville, TN</td>\n",
       "      <td>112 19th Ave S</td>\n",
       "      <td>Nashville</td>\n",
       "      <td>Tennessee</td>\n",
       "      <td>37203</td>\n",
       "      <td>5</td>\n",
       "      <td>�� My only...</td>\n",
       "      <td>��\\nMy only regret was not going for \"Damn Ho...</td>\n",
       "      <td>https://www.facebook.com/HattieBsMidtownNashvi...</td>\n",
       "      <td>--</td>\n",
       "      <td>NaN</td>\n",
       "    </tr>\n",
       "    <tr>\n",
       "      <th>3</th>\n",
       "      <td>5a7a88104ee9ca00046f919c</td>\n",
       "      <td>2/7/2018</td>\n",
       "      <td>Donna Edwards</td>\n",
       "      <td>8c88a35d0000000200000000</td>\n",
       "      <td>Yelp</td>\n",
       "      <td>5a724f46b4d8d61aa350f2ca</td>\n",
       "      <td>Melrose</td>\n",
       "      <td>Hattie B's Hot Chicken Melrose</td>\n",
       "      <td>2222 8th Ave South</td>\n",
       "      <td>Nashville</td>\n",
       "      <td>Tennessee</td>\n",
       "      <td>37204</td>\n",
       "      <td>4</td>\n",
       "      <td>\"Damn hot\" chicken...</td>\n",
       "      <td>\"Damn hot\" chicken wings was super hot! Could...</td>\n",
       "      <td>https://www.yelp.com/biz/hattie-bs-hot-chicken...</td>\n",
       "      <td>--</td>\n",
       "      <td>NaN</td>\n",
       "    </tr>\n",
       "    <tr>\n",
       "      <th>4</th>\n",
       "      <td>5a7b4dc0c6a65e0004c1e6b8</td>\n",
       "      <td>2/7/2018</td>\n",
       "      <td>Andrew Lundborg</td>\n",
       "      <td>8c88a35d0000000200000000</td>\n",
       "      <td>Yelp</td>\n",
       "      <td>5a7371e8e48ea828c376c026</td>\n",
       "      <td>NaN</td>\n",
       "      <td>Hattie B's Hot Chicken West</td>\n",
       "      <td>5209 Charlotte Pike</td>\n",
       "      <td>Nashville</td>\n",
       "      <td>Tennessee</td>\n",
       "      <td>37209</td>\n",
       "      <td>4</td>\n",
       "      <td>\"Damn hot\" chicken...</td>\n",
       "      <td>\"Damn hot\" chicken wings was super hot! Could...</td>\n",
       "      <td>https://www.yelp.com/biz/hattie-bs-hot-chicken...</td>\n",
       "      <td>--</td>\n",
       "      <td>NaN</td>\n",
       "    </tr>\n",
       "  </tbody>\n",
       "</table>\n",
       "</div>"
      ],
      "text/plain": [
       "                  Review ID Published             Author  \\\n",
       "0  5a7a88104ee9ca00046f91a6  2/7/2018        Luis Pineda   \n",
       "1  5a7b4dc1621b990004b348a2  2/7/2018    Rodger Brummett   \n",
       "2  5a7b4dc08cde5000045c28de  2/7/2018  Stefanie Howerton   \n",
       "3  5a7a88104ee9ca00046f919c  2/7/2018      Donna Edwards   \n",
       "4  5a7b4dc0c6a65e0004c1e6b8  2/7/2018    Andrew Lundborg   \n",
       "\n",
       "                  Source ID       Source               Location ID  \\\n",
       "0  8c88a35d0000003000000000     Facebook  5a724f5c6fbc8917b5317e00   \n",
       "1  8c88a35d0000000800000000  TripAdvisor  5a724da73f8a4515c330e5b4   \n",
       "2  8c88a35d0000003000000000     Facebook  5a724da73f8a4515c330e5b4   \n",
       "3  8c88a35d0000000200000000         Yelp  5a724f46b4d8d61aa350f2ca   \n",
       "4  8c88a35d0000000200000000         Yelp  5a7371e8e48ea828c376c026   \n",
       "\n",
       "  External ID                                        Location  \\\n",
       "0         NaN         Hattie B's Hot Chicken - Birmingham, AL   \n",
       "1         NaN  Hattie B's Hot Chicken - Midtown Nashville, TN   \n",
       "2         NaN  Hattie B's Hot Chicken - Midtown Nashville, TN   \n",
       "3     Melrose                  Hattie B's Hot Chicken Melrose   \n",
       "4         NaN                     Hattie B's Hot Chicken West   \n",
       "\n",
       "                                  Address        City      State    Zip  \\\n",
       "0  2808 7th Ave S 29 Seven Apartments 101  Birmingham    Alabama  35233   \n",
       "1                          112 19th Ave S   Nashville  Tennessee  37203   \n",
       "2                          112 19th Ave S   Nashville  Tennessee  37203   \n",
       "3                      2222 8th Ave South   Nashville  Tennessee  37204   \n",
       "4                     5209 Charlotte Pike   Nashville  Tennessee  37209   \n",
       "\n",
       "   Rating                  Title  \\\n",
       "0       5    ������� 1st time...   \n",
       "1       5             Great food   \n",
       "2       5          �� My only...   \n",
       "3       4  \"Damn hot\" chicken...   \n",
       "4       4  \"Damn hot\" chicken...   \n",
       "\n",
       "                                              Review  \\\n",
       "0   ������� 1st time trying the B'ham location an...   \n",
       "1   Really enjoyed the hot chicken.   Would recom...   \n",
       "2   ��\\nMy only regret was not going for \"Damn Ho...   \n",
       "3   \"Damn hot\" chicken wings was super hot! Could...   \n",
       "4   \"Damn hot\" chicken wings was super hot! Could...   \n",
       "\n",
       "                                                 URL Status Responses  \n",
       "0        https://www.facebook.com/Hattiebham/reviews     --       NaN  \n",
       "1  http://www.tripadvisor.com/Restaurant_Review-g...     --       NaN  \n",
       "2  https://www.facebook.com/HattieBsMidtownNashvi...     --       NaN  \n",
       "3  https://www.yelp.com/biz/hattie-bs-hot-chicken...     --       NaN  \n",
       "4  https://www.yelp.com/biz/hattie-bs-hot-chicken...     --       NaN  "
      ]
     },
     "execution_count": 6,
     "metadata": {},
     "output_type": "execute_result"
    }
   ],
   "source": [
    "reviews.head()"
   ]
  },
  {
   "cell_type": "code",
   "execution_count": 7,
   "metadata": {
    "collapsed": true
   },
   "outputs": [],
   "source": [
    "#remove all reviwes except for Broadway\n",
    "negreviews = reviews[reviews['Rating'] < 4]\n",
    "negreviews = negreviews[~negreviews.State.str.contains(\"Alabama\")]\n",
    "negreviews = negreviews[~negreviews.Address.str.contains(\"2222 8th Ave South\")]\n",
    "negreviewsBW = negreviews[~negreviews.Address.str.contains(\"5209 Charlotte Pike\")]"
   ]
  },
  {
   "cell_type": "code",
   "execution_count": 8,
   "metadata": {},
   "outputs": [
    {
     "data": {
      "text/plain": [
       "'                                                 Review\\n13     **** Save yourself the time and either get it...\\n16     1) Not very tasty compared to Prince\\'s. 2) Im...\\n19     1. Hattie B\\'s will never be a substitute for ...\\n31     I know Hattie B\\'s is a Nashville tradition, b...\\n33     3.5 Stars   I heard so much about the famous ...\\n49     A disclaimer up front: I am not a fan of hot ...\\n59     3 tries to get in. Otherwise too busy to wait...\\n60     We waited anxiously for 25 minutes in 90+ tem...\\n61     A one hour wait left me a bit disappointed.  ...\\n62     They don\\'t know how to handle busy, which is ...\\n100    We were told that while we were visiting Nash...\\n119    We visited this place since it\\'s a \" must do ...\\n195    After waiting in a long line for take out. I ...\\n214    Alright everyone, just so you know, Hattie\\'s ...\\n319    Amazing food. But......My takeout was suppose...\\n417    At 2 PM on a weekday, there was no parking an...\\n421    Ate here last nite. Very long line but festiv...\\n430    Average, had better fried chicken. Long wait,...\\n547    Save yourself getting sick.  Totally overrate...\\n558    ordered damn hot, typically very tolerant of ...\\n581    My husband and I love Hattie B chicken and ma...\\n586    Before a night out in Nashville, a group of u...\\n905    We read a review of this restaurant that was ...\\n947    They feature fried chicken with degrees of \"h...\\n951    Ok so we head to Nashville and folks back in ...\\n990    Came here for the hot chicken and the line wa...\\n1030   Certainly a comfort meal, and in the spirit o...\\n1041   Chicken and waffles ..... no coffee?????? Wha...\\n1048   Chicken good but peach cobbler was horrible! ...\\n1061   Chicken is OK. 30 minute wait in line to orde...\\n1064   Passing though TN couldn\\'t wait to try \"hot\" ...\\n1086   Chicken was delicious. \\xa0However, we arrived a...\\n1092   Chicken was fabulous! 3 stars because they ra...\\n1099   chicken was good and crispy, but wasn\\'t blown...\\n1100   Chicken was good. But not worth the hour wait...\\n1109   Chicken was ok honestly. \\xa0We waited 1 hr and ...\\n1141   Hattie B\\'s is probably awesome (AWESOME) if y...\\n1151   Waited in line for 40 minutes for this touris...\\n1160   Could not handle how ridiculously hot this wa...\\n1172   Very crowded, chicken seasoning good, chicken...\\n1205   Heard about Hattie\\'s. Heard about hot chicken...\\n1212   Dear people of Nashville,   You are not bette...\\n1385   I was so excited about going here - it came h...\\n1387   Flavor and tenderness of chicken was good. Ho...\\n1388   I had heard such great things about this plac...\\n1415   Don\\'t bother waiting in line for this place -...\\n1416   Don\\'t chicken out like I did and order it mil...\\n1417   I\\'m sorry but I don\\'t see what\\'s fantastic wi...\\n1422   Don\\'t know why everyone is raving about this ...\\n1436   The chicken is good. The prices are pretty fa...\\n1438   The food was good but nothing spectacular. No...\\n1462   Heard so much about this place so we decided ...\\n1482   Everybody there loves their job. Staff was ve...\\n1484   It amazes me that someone comes up with a nov...\\n1604   Everyone says when you go to Nashville you ha...\\n1606   Fake, and it is at best a reasonable alternat...\\n1610   Hatties is a popular place to meat, with line...\\n1676   First meal in Nashville!!!! The hot chicken s...\\n1695   First time eating at this chicken hot spot. W...\\n1718   First time to Nashville and we were excited t...\\n1731   First time. Order was ready on time. \\\\nChicke...\\n1770   Food is exceptional, service is a horrifying,...\\n1782   Food tasted good at the time, however, my fri...\\n1794   Food was good, not great. The chicken was a b...\\n1856   Fuck you copy Elvis ass white folk\\'s your chi...\\n1874   20 minute wait on Friday night which is appar...\\n1884   Give yourself a huge window of time to eat he...\\n1885   Giving it 3 stars due to the wait time to get...\\n1908   I had very high hopes, given the high Trip Ad...\\n1912   I past reviewed as best hot chicken in Nashvi...\\n1913   This place is swamped we waited 45 minutes se...\\n1916   Everyone told us we had to go to Hattie B\\'s a...\\n1923   As a local it\\'s becoming increasingly annoyin...\\n1927   The legend of this place is impressive. They ...\\n1928   Waited a long, long time both outside and aft...\\n1930   Good but overrated. Lucky the line was short ...\\n1931   We had two \"authentic\" fried chicken meals (H...\\n1934   Famous place for chicken. We watched someone ...\\n1942   I had to try the food at this restaurant due ...\\n1943   Good chicken but lines are long. They don\\'t a...\\n1948   Good chicken! Not a huge fan of cafeteria sty...\\n1958   So we saw this place and a line that wrapped ...\\n1961   Good chicken. Skin wasn\\'t as crispy as desire...\\n1968   I will preface this by saying we ate at Gus\\'s...\\n1981   Waited about 40 minutes to place our order, t...\\n1997   Chicken was good; I had boneless chicken meal...\\n2025   Hattie\\'s is perhaps legendary, and yes it\\'s g...\\n2031   Good moist chicken, dripping, tasty, white br...\\n2039   Good service. Average food. Nice homemade Lem...\\n2061   I had to try after hearing this was the place...\\n2188   I\\'ve actually heard all about the \\'hot chicke...\\n2337   Great fried chicken. Sides not wonderful in m...\\n2386   Great if you like hot chicken....if not, kind...\\n2416   Great place for #NashvilleHotChicken we tried...\\n2432   Great quality chicken but I was super disappo...\\n2442   A disclaimer up front: I am not a fan of hot ...\\n2512   This was my wife\\'s idea. \\\\n\\\\nMy idea of good ...\\n2514   Good chicken but the place is so hectic it wa...\\n2553   We visited Hattie B\\'s for dinner.  It was a c...\\n2582   Hattie B\\'s has commoditized the hot chicken p...\\n2594   It was ok.  My wife makes better fried chicke...\\n2679   Hattie B\\'s was on the top of my list in regar...\\n2760   Horrible customer service!! They don\\'t need t...\\n2768   While out walking one day I saw a crowd of pe...\\n2779   I saw many reviews for this restaurant. I was...\\n2789   In my opinion, as a Nashville resident and wi...\\n2790   Waited in line for over an hour and the chick...\\n2801   Eclipse weekend was probably not the best tim...\\n2807   Stopped in for lunch and had to wait 30 minut...\\n2834   We waited in line about 45 minutes. The chick...\\n2900   I ordered \"hot\" because that\\'s my go to sauce...\\n2938   Hot with no flavor. Grease tastes like cook i...\\n2939   We saw this place Triple D food network. Trie...\\n2953   In a business trip my colleague and I asked t...\\n2960   Made a special trip to go there to try the \\'h...\\n2973   I am glad that I had the Hattie B\\'s experienc...\\n2985   I asked before I ordered if mild would have a...\\n3010   I can\\'t believe the number of 5 star reviews ...\\n3029   I do and I don\\'t understand at the same time ...\\n3046   I don\\'t see all the hype. \\xa0It was good chicke...\\n3047   I don\\'t think nothing about Hattie B\\'s!  I au...\\n3056   I expected it to be a lot better based on the...\\n3057   I expected more. I got their Sunday chicken a...\\n3072   I got a chicken breast and wing, hot. The mea...\\n3088   I got there just half an hour after it had op...\\n3090   This place gets lots of talk because of the \"...\\n3109   I had the medium hot plate. Good, but glad I ...\\n3157   I honestly don\\'t see what the big deal abt th...\\n3158   I honestly don\\'t understand this place. It\\'s ...\\n3160   I just ate here. I\\'m a vegetarian that came t...\\n3171   I know, I know. As a card-carrying Nashvillia...\\n3172   I legitimately don\\'t get the hype about this ...\\n3173   I like Hattie\\'s because they are well-priced ...\\n3187   I love great southern fried chicken.  We made...\\n3253   I ordered my meal then after 35 min of waitin...\\n3260   I ordered the \"shut-the-cluck-up\" and it was ...\\n3266   I really don\\'t get the hype. I was lured here...\\n3278   I really wanted to like this place. Maybe I h...\\n3287   I spent two days in Nashville for work and wa...\\n3290   I think Hattie B\\'s is overrated. I wouldn\\'t r...\\n3292   I think it just depends on the person whether...\\n3298   I think this is an overrated tourist trap. \\xa0T...\\n3300   I thought the chicken was wack. \\xa0Put differen...\\n3306   I truly don\\'t get what the fuss is about this...\\n3311   I usually go to Hattie’s west at least once a...\\n3314   I waited in line for about an hour, and was i...\\n3321   I was here on business and decided to take a ...\\n3334   I was so excited to try this place because I\\'...\\n3336   I was told when coming to Nashville to try ou...\\n3341   I wasn\\'t impressed with the chicken, but the ...\\n3359   I will never spend a single cent at Hattie Bs...\\n3360   I will never spend a single cent at Hattie Bs...\\n3380   I wouldn\\'t hunt this place down on my own; a ...\\n3381   I wouldn\\'t hunt this place down on my own; a ...\\n3386   We waited about 30 minutes to get, not a bad ...\\n3393   If I\\'m gonna be honest... not that much bette...\\n3410   If you are a fan of Hot Chicken, give this pl...\\n3419   If you enjoy standing in line to get somethin...\\n3421   If you have this place on your Nashville itin...\\n3430   If you like spicy chicken this is your place....\\n3468   I\\'m from Columbus, Ohio and the only hot chic...\\n3485   I\\'m probably the only person in Nashville who...\\n3487   I\\'m sad that I have to give this famous place...\\n3488   I\\'m so sad to have to give Hattie B\\'s a less-...\\n3524   We came here because it was recommended as so...\\n3526   Hattie B\\'s is somewhat of an institution in N...\\n3535   It didn\\'t live up to the hype everyone built ...\\n3536   It does not live up to the hype. It wasn\\'t fl...\\n3548   At times there is a very long wait - 50 minut...\\n3553   It might be just me, didn’t find it to be ext...\\n3554   Great fried chicken. Sides not wonderful in m...\\n3556   it seems to be a nashville favorite, but i fo...\\n3582   It was definitely good fried chicken (I chose...\\n3590   The chicken tenders were good and everyone wa...\\n3591   It was good! Mac and Cheese was delish and ch...\\n3607   It was just ok after standing in line for 45 ...\\n3614   It was ok since we had it at a free food even...\\n3615   It was ok for me. Being from N.O. I think tha...\\n3616   It was ok.  Is it worth the 1 hour wait in li...\\n3617   it was ok. not worth all the hype. but the fl...\\n3618   We arrived at 11:00 a.m. on a Sunday and stoo...\\n3619   The macaroni and cheese was the best I have e...\\n3620   The meal was okay.  I didn\\'t find it to be ou...\\n3668   It\\'s basically hot chicken for white people. ...\\n3669   Visited Hattie B\\'s because I\\'d heard so much ...\\n3687   It\\'s ok, with parking and good customer servi...\\n3688   It\\'s ok not good enough for the stupid long l...\\n3689   I was visiting Nashville while my wife attend...\\n3767   Just OKAY chicken.. I didn\\'t see anything ext...\\n3780   We tried Hattie B\\'s because we had read sever...\\n3787   This was the first time I ever ate chicken at...\\n3788   Lately I have been disappointed in the food, ...\\n3797   Let me start by saying the chicken is amazing...\\n3810   We went to this place because it was recommen...\\n3814   Line wrapped halfway around the restaurant on...\\n3817   We were taken here by locals who said that we...\\n3879   We\\'d been told this is a \"must visit.\"  After...\\n3887   We waited almost 45 minutes.  The place is ki...\\n3890   Long wait and my order wasn\\'t that good. Dry ...\\n3903   LONG WAIT! The food was delicious and filling...\\n3904   It was a Saturday at 3pm so we thought we cou...\\n3913   After waiting 40 minutes for fried chicken is...\\n4065   Major fail in that their website said they\\'re...\\n4067   Make sure to go at an off peak hour and/or or...\\n4073   Lineups were long!  Walked past every day for...\\n4079   Maybe the hype is why I\\'m disappointed, but s...\\n4092   Not worth the line. It’s just fried chicken, ...\\n4101   My bride ordered the hot chicken sandwich and...\\n4109   Visited on a Saturday night, Crowded, i went ...\\n4110   Only three star because I still don\\'t underst...\\n4111   More like a 3.5, not quite a 4. I honestly do...\\n4113   My hotel window was directly across the stree...\\n4155   My chicken was cold today. You weren\\'t that b...\\n4156   My companions seemed to enjoy their spicy chi...\\n4157   My coworker told me that if I go to Nashville...\\n4165   My family and I visited the Birmingham locati...\\n4227   My husband and I came this weekend to experie...\\n4235   He\\'s still upset that he left a bite on his p...\\n4312   Went there around 1 o\\'clock and there was no ...\\n4322   Waited in line here for about 40 mins before ...\\n4323   We heard this was one of the top spots to eat...\\n4325   Nice cool concept. Hot Chicken was good howev...\\n4341   Came here at the recommendation of basically ...\\n4342   If you drive by this place you\\'ll most likely...\\n4343   Hot is too hot for a first timer!  We walked ...\\n4348   not as good as i thought  line was crazy long...\\n4354   Okay, I get all the hoopla of Nashville \"hot\"...\\n4357   My family went to Hattie B\\'s for a late night...\\n4359   With all the great BBQ places to go in Nashvi...\\n4362   I do not like very spicy food and so my food ...\\n4368   Well, my group of ten ladies arrived one hour...\\n4376   Foodie friends told us we just had to stop he...\\n4377   Not sure what all the fuss is about. \\xa0There a...\\n4385   We drove out of our way to go to Hattie B\\'s b...\\n4386   You walk up to the restaurant and stand in li...\\n4387   I don\\'t get the raves. At all.\\\\n\\\\nThe lines s...\\n4393   Please someone explain to me why ANYONE would...\\n4394   Not worth the hour long wait. Thank God the w...\\n4395   Not worth the wait. We stood in line for one ...\\n4404   Nothing special. Even KFC got better flavor (...\\n4405   Nothing special...sorry but not worth the wai...\\n4453   Ok first of all we waited 90 minutes in line....\\n4454   I eat Nashville style hot chicken every time ...\\n4457   Ok!!! I couldn\\'t even get through the door! I...\\n4462   This was pretty near our hotel and since we w...\\n4463   Ok, so I finally had a chance to try Hattie B...\\n4468   I ate here on a traveling trip with friends t...\\n4500   On a recent trip to Detroit, my parents and I...\\n4531   We had just seen a story on CBS Sunday mornin...\\n4549   Ordered Mild,Hot, ,Damn hot and Shut the cluc...\\n4554   Ordered take out from their website a few wee...\\n4595   Over all a good experience but the wait is a ...\\n4599   Having heard all the hype we first tried to p...\\n4602   Over rated for time had to spend in line, we ...\\n4605   They advertise four levels of seasoning for t...\\n4609   Food was good but not the quality expected  a...\\n4610   Hot chicken is a Nashville attraction but thi...\\n4611   I\\'m a Nashville native, so I feel like the ho...\\n4614   Overrated. \\xa0 Don\\'t believe the hype. \\xa0 It\\'s j...\\n4615   Overrated. We are from Texas and I\\'ve had muc...\\n4641   Pimento mac n cheese and the greens were amaz...\\n4662   Nashville hot chicken is a thing for sure. Wh...\\n4677   After seeing all the marketing hype, I decide...\\n4693   Que lastima... all that hype. We were sooo lo...\\n4698   Ok... this has been a place I wanted to go to...\\n4726   Really good fried chicken but hard to justify...\\n4738   Reason for 3 stars is I give 4 starts for chi...\\n4750   Ridiculously long line - always. I should\\'ve ...\\n4758   Waited in line (no big deal) but after orderi...\\n4905   So read the reviews and decided to take every...\\n4914   So we tried the highly recommended, best hot ...\\n4919   So, I was stoked to try this place. We were t...\\n4927   Solid food but nothing special. Large portion...\\n4980   Oily, long wait, too salty fries.and you bett...\\n5019   Didn\\'t really get the hype about this place. ...\\n5031   I had the small white chicken with medium hea...\\n5066   I was excited to try Hattie B\\'s Hot Chicken, ...\\n5074   Saw the line and while not unexpected there\\'s...\\n5078   Spicy \"hot\" chicken, not for those with weak ...\\n5203   The catering manager was super rude. I forget...\\n5205   The chicken (hot) was VERY VERY good. But, we...\\n5224   The chicken is very crispy and cooked nice an...\\n5234   The chicken is tasty but the staff can be ter...\\n5245   The chicken tasted burnt and greasy. The frie...\\n5261   The chicken was juicy and pretty good. The sk...\\n5262   The chicken was really good but the greens we...\\n5265   The chicken was great, but they could\\'ve kept...\\n5359   The food was really good, but the line was ou...\\n5364   The food was good for the first couple of bit...\\n5392   The hot chicken is mediocrely mild, doesn\\'t r...\\n5406   The hype makes my review more critical. I\\'m a...\\n5412   The lemonade was just like mom\\'s 👌🏻 Hubby lov...\\n5416   The line is almost always out the door at Hat...\\n5466   The milieu was hot, loud, crowded, and full o...\\n5472   If I can redirect one tourist to a better hot...\\n5493   The review: \\xa0The hot chicken was good (very j...\\n5510   The southern, mild and medium heat levels are...\\n5518   The system takes waaaay to long to order and ...\\n5519   The three stars are for the delicious fried c...\\n5534   the wait was a bit long but this place is soo...\\n5572   There\\'s a lot of hype for this chicken place....\\n5583   They need more help because trying to place a...\\n5584   They pressure customers to give them a 5 star...\\n5586   They say this is hot chicken place of Nashvil...\\n5587   They were kind enough but never did get our o...\\n5623   This is another Nashville favorite that I jus...\\n5664   This is the McDonald\\'s of hot chicken, it\\'s a...\\n5724   This place is overrated. The sandwich was bla...\\n5746   This place is so overrated. It\\'s a tourist sp...\\n5755   This place is okay. Got tenders and they were...\\n5784   This review is solely based on my experience ...\\n5857   To qualify, I\\'m not a huge fried chicken buff...\\n5882   Tourist stop. \\xa0 Plan on a long wait. \\xa0Long wa...\\n5900   Tried this restaurant for the first time and ...\\n5903   My first hot chicken experience was not so ho...\\n5906   I was excited to try this Nashville specialit...\\n5917   Food was good but not extra special. Not wort...\\n5933   We stood in line for 45 minutes, after readin...\\n5948   Knowing there would be massive line for Hatti...\\n5954   Used as vendor for a professional meeting. Go...\\n5957   After all of the hype about hattie b\\'s. I was...\\n5961   Very disappointed that they allow people to c...\\n5967   First point - Hattie Bs has a site where you ...\\n5997   If you have to wait in line for 30 minutes, t...\\n5998   Very good. But for the best chicken in Nashvi...\\n6006   Very long wait time just to get in. This is t...\\n6009   Very solid hot chicken option in Nashville. \\xa0...\\n6030   Visiting and went with friends. Tried newest ...\\n6035   Visiting from LA, told a must do! After 1 hr ...\\n6036   Visiting Nashville we were repeatedly told we...\\n6046   I\\'m sorry but waiting two hours for fried chi...\\n6055   Hey, maybe I\\'m in the minority, but when I se...\\n6075   Waited outside in the cold for about 30 minut...\\n6098   Was not all that good and was not really how ...\\n6110   Wasn\\'t worth waiting in line. But I\\'m from Te...\\n6135   We came here on a Saturday and the line was l...\\n6146   My husband and I just got back from a three d...\\n6181   We like Hattie B\\'s well enough, but it\\'s not ...\\n6202   We made our way after reading several reviews...\\n6209   We ordered to go a large dark, a large white ...\\n6221   We stood in line for 45 minutes. Very nice fo...\\n6223   We stood on line for 45 minutes before gettin...\\n6227   WE stopped in here due to its reputation, but...\\n6233   We had heard so much about this chicken we de...\\n6237   We waited 90 minutes outside just to order ou...\\n6242   We waited an hour and half for the chicken - ...\\n6251   We wanted to grab lunch before we left town a...\\n6260   We were giving a tour of Nashville for some o...\\n6263   We were looking forward to eating here and kn...\\n6273   Welcome to Nashville in 2017! Where you can o...\\n6277   Well I\\'m in town for a few days. I want to vi...\\n6309   There is always a line to get in this place b...\\n6319   Went on Tuesday. Long line. Longer wait time ...\\n6386   When we arrived at Hattie B\\'s, the line was p...\\n6402   While this place was highly recommended to me...\\n6425   Wish I could give Hattie B\\'s no stars. Was tu...\\n6449   Worst chicken this side of the Mississippi - ...\\n6454   Despite the long lines we had to give this pl...\\n6618   Maybe Saturday morning of memorial day weeken...\\n6687   Yeah Baby, I done got my Hattie B\\'s badge. Af...'"
      ]
     },
     "execution_count": 8,
     "metadata": {},
     "output_type": "execute_result"
    }
   ],
   "source": [
    "#Turn reviews into text string to parse\n",
    "negreviewsBW.to_string(columns=['Review'])"
   ]
  },
  {
   "cell_type": "code",
   "execution_count": 9,
   "metadata": {},
   "outputs": [
    {
     "name": "stdout",
     "output_type": "stream",
     "text": [
      "<class 'pandas.core.frame.DataFrame'>\n",
      "Int64Index: 360 entries, 13 to 6687\n",
      "Data columns (total 2 columns):\n",
      "Rating    360 non-null int64\n",
      "Review    360 non-null object\n",
      "dtypes: int64(1), object(1)\n",
      "memory usage: 8.4+ KB\n"
     ]
    }
   ],
   "source": [
    "#Columns setup\n",
    "columns = ['Rating', 'Review']\n",
    "#create a df with rating and review columns called messages\n",
    "messages = negreviewsBW[columns]\n",
    "#Create a Summary array of every message as an item in the array \n",
    "Summary = messages['Review']\n",
    "messages.info()"
   ]
  },
  {
   "cell_type": "code",
   "execution_count": 10,
   "metadata": {},
   "outputs": [
    {
     "name": "stdout",
     "output_type": "stream",
     "text": [
      "                                                 After  \\\n",
      "13   save yourself the time and either get it to go...   \n",
      "16   1 not veri tasti compar to princ s 2 imposs to...   \n",
      "19   1 hatti b s will never be a substitut for prin...   \n",
      "31   i know hatti b s is a nashvil tradit but we wa...   \n",
      "33   3 5 star i heard so much about the famou nashv...   \n",
      "49   a disclaim up front i am not a fan of hot food...   \n",
      "59   3 tri to get in otherwis too busi to wait gues...   \n",
      "60   we wait anxious for 25 minut in 90 temperatur ...   \n",
      "61   a one hour wait left me a bit disappoint i ord...   \n",
      "62   they don t know how to handl busi which is unf...   \n",
      "100  we were told that while we were visit nashvil ...   \n",
      "119  we visit thi place sinc it s a must do while i...   \n",
      "195  after wait in a long line for take out i get t...   \n",
      "214  alright everyon just so you know hatti s is on...   \n",
      "319  amaz food but my takeout wa suppos to be readi...   \n",
      "417  at 2 pm on a weekday there wa no park and ther...   \n",
      "421  ate here last nite veri long line but festiv a...   \n",
      "430  averag had better fri chicken long wait good s...   \n",
      "547  save yourself get sick total overr i highli re...   \n",
      "558  order damn hot typic veri toler of spici food ...   \n",
      "\n",
      "                                                Before  \n",
      "13    **** Save yourself the time and either get it...  \n",
      "16    1) Not very tasty compared to Prince's. 2) Im...  \n",
      "19    1. Hattie B's will never be a substitute for ...  \n",
      "31    I know Hattie B's is a Nashville tradition, b...  \n",
      "33    3.5 Stars   I heard so much about the famous ...  \n",
      "49    A disclaimer up front: I am not a fan of hot ...  \n",
      "59    3 tries to get in. Otherwise too busy to wait...  \n",
      "60    We waited anxiously for 25 minutes in 90+ tem...  \n",
      "61    A one hour wait left me a bit disappointed.  ...  \n",
      "62    They don't know how to handle busy, which is ...  \n",
      "100   We were told that while we were visiting Nash...  \n",
      "119   We visited this place since it's a \" must do ...  \n",
      "195   After waiting in a long line for take out. I ...  \n",
      "214   Alright everyone, just so you know, Hattie's ...  \n",
      "319   Amazing food. But......My takeout was suppose...  \n",
      "417   At 2 PM on a weekday, there was no parking an...  \n",
      "421   Ate here last nite. Very long line but festiv...  \n",
      "430   Average, had better fried chicken. Long wait,...  \n",
      "547   Save yourself getting sick.  Totally overrate...  \n",
      "558   ordered damn hot, typically very tolerant of ...  \n"
     ]
    }
   ],
   "source": [
    "#Import slanguage word stemmer as stemmer\n",
    "stemmer = PorterStemmer()\n",
    "#import nltk\n",
    "\n",
    "from nltk.corpus import stopwords\n",
    "\n",
    "#Stem the dataset words to normalize the data somewhat\n",
    "def stem_tokens(tokens, stemmer):\n",
    "    stemmed = []\n",
    "    for item in tokens:\n",
    "        stemmed.append(stemmer.stem(item))\n",
    "    return stemmed\n",
    "#Tokenizes all the stemmed words and returns them joined by a space\n",
    "def tokenize(text):\n",
    "    tokens = nltk.word_tokenize(text)   # Resource 'tokenizers/punkt/english.pickle' not found\n",
    "    stems = stem_tokens(tokens, stemmer)\n",
    "    return ' '.join(stems)\n",
    "\n",
    "# replace each punctuation with a space\n",
    "intab = string.punctuation\n",
    "outtab = \"                                \"\n",
    "trantab = str.maketrans(intab, outtab)\n",
    "\n",
    "#--- Training set\n",
    "\n",
    "corpus = []\n",
    "#Create an array called Corpus that has our text stemmed and tokenized for analysis\n",
    "for text in Summary:\n",
    "    text = str(text)\n",
    "    text = text.lower()\n",
    "    text = text.translate(trantab)\n",
    "    text=tokenize(text)\n",
    "    corpus.append(text)\n",
    "\n",
    "    \n",
    "count_vect = CountVectorizer()\n",
    "#Train on the review data\n",
    "X_train_counts = count_vect.fit_transform(corpus)        \n",
    "\n",
    "#Transform the counts from training data to fit the model\n",
    "tfidf_transformer = TfidfTransformer()\n",
    "X_train_tfidf = tfidf_transformer.fit_transform(X_train_counts)\n",
    "\n",
    "# print tokenized text and text before tokenizing\n",
    "from pandas import *\n",
    "df = DataFrame({'Before': Summary, 'After': corpus})\n",
    "print(df.head(20))\n",
    "\n",
    "\n",
    "prediction = dict()\n",
    "    "
   ]
  },
  {
   "cell_type": "code",
   "execution_count": 11,
   "metadata": {},
   "outputs": [
    {
     "name": "stdout",
     "output_type": "stream",
     "text": [
      "<class 'pandas.core.frame.DataFrame'>\n",
      "Int64Index: 360 entries, 13 to 6687\n",
      "Data columns (total 2 columns):\n",
      "After     360 non-null object\n",
      "Before    360 non-null object\n",
      "dtypes: object(2)\n",
      "memory usage: 8.4+ KB\n"
     ]
    }
   ],
   "source": [
    "df.info()\n"
   ]
  },
  {
   "cell_type": "code",
   "execution_count": 12,
   "metadata": {
    "collapsed": true
   },
   "outputs": [],
   "source": []
  },
  {
   "cell_type": "code",
   "execution_count": 13,
   "metadata": {},
   "outputs": [
    {
     "name": "stderr",
     "output_type": "stream",
     "text": [
      "ERROR:root:Line magic function `%paste` not found.\n"
     ]
    },
    {
     "data": {
      "image/png": "[encoded data removed]",
      "text/plain": [
       "<matplotlib.figure.Figure at 0x7718d634a8>"
      ]
     },
     "metadata": {},
     "output_type": "display_data"
    },
    {
     "data": {
      "text/plain": [
       "<wordcloud.wordcloud.WordCloud at 0x7718ec56a0>"
      ]
     },
     "execution_count": 13,
     "metadata": {},
     "output_type": "execute_result"
    }
   ],
   "source": [
    "#create a wordcloud of the positive sentiment\n",
    "\n",
    "%paste\n",
    "from os import path\n",
    "from wordcloud import WordCloud\n",
    "from nltk.corpus import stopwords\n",
    "\n",
    "d = path.dirname('C:/Users/William/Desktop')\n",
    "\n",
    "#input stop words to remove from wordcloud\n",
    "stopwords = stopwords.words('english')\n",
    "#input stop words specific to the business case\n",
    "newstops = [' B ','I','way','ok','eat','chicken', 'Hattie B', 'Nashville', 'get', 'go', 'Hattie', 'B', ' B', 'really', 'fried', 'got', 'would', 'better', 'like']\n",
    "#Add those custom stopwords to the stopwords list\n",
    "stopwords.extend(newstops)\n",
    "\n",
    "#open the jpg as the base for the wordcloud\n",
    "preds_mask = np.array(Image.open(path.join(d, 'C:/Users/William/Desktop/chicken.jpg')))\n",
    "\n",
    "#Use the WordCloud function and inputs to create the wordcloud paramters\n",
    "cloud = WordCloud(background_color=\"white\", max_words=50, mask = preds_mask, stopwords = stopwords)\n",
    "\n",
    "#Display the wordcloud\n",
    "positive_cloud = cloud.generate(df['Before'].str.cat(sep='\\n'))\n",
    "plt.figure()\n",
    "plt.imshow(positive_cloud)\n",
    "plt.axis(\"off\")\n",
    "plt.show()\n",
    "#Save the wordcloud to file\n",
    "positive_cloud.to_file(path.join(d, 'C:/Users/William/Desktop/BWnegchicken50.png'))"
   ]
  },
  {
   "cell_type": "code",
   "execution_count": 17,
   "metadata": {},
   "outputs": [
    {
     "name": "stdout",
     "output_type": "stream",
     "text": [
      "Top terms per cluster:\n",
      "Cluster 0:\n",
      " flavor\n",
      " restaurant\n",
      " hype\n",
      " worth\n",
      " kfc\n",
      "Cluster 1:\n",
      " average\n",
      " place\n",
      " spicy\n",
      " long\n",
      " sure\n",
      "Cluster 2:\n",
      " line\n",
      " cheese\n",
      " minutes\n",
      " mac\n",
      " ordered\n",
      "Cluster 3:\n",
      " wait\n",
      " line\n",
      " worth\n",
      " hour\n",
      " long\n",
      "Cluster 4:\n",
      " prince\n",
      " pepperfire\n",
      " clean\n",
      " best\n",
      " fake\n",
      "\n",
      "\n",
      "Prediction\n"
     ]
    }
   ],
   "source": [
    "from sklearn.feature_extraction.text import TfidfVectorizer\n",
    "from sklearn.cluster import KMeans\n",
    "from sklearn.metrics import adjusted_rand_score\n",
    "from nltk.corpus import stopwords\n",
    "\n",
    "stopwordsk = stopwords.words('english')\n",
    "newstopsk = ['great','good','food','hot','nashville','hattie','I','way','ok','eat','chicken', 'Hattie B', 'Nashville', 'get', 'go', 'Hattie', 'B', ' B', 'really', 'fried', 'got', 'would', 'better', 'like']\n",
    "stopwordsk.extend(newstopsk)\n",
    "\n",
    "\n",
    "vectorizer = TfidfVectorizer(stop_words=stopwordsk)\n",
    "X = vectorizer.fit_transform(df['Before'])\n",
    "\n",
    "#K means clustering to see what words for negative reviewed tend to be together\n",
    "#This can give some more context for why people leave certain reviews\n",
    "true_k = 5\n",
    "model = KMeans(n_clusters=true_k, init='k-means++', max_iter=20, n_init=1)\n",
    "model.fit(X)\n",
    "\n",
    "print(\"Top terms per cluster:\")\n",
    "order_centroids = model.cluster_centers_.argsort()[:, ::-1]\n",
    "terms = vectorizer.get_feature_names()\n",
    "for i in range(true_k):\n",
    "    print(\"Cluster %d:\" % i),\n",
    "    for ind in order_centroids[i, :5]:\n",
    "        print(' %s' % terms[ind]),\n",
    "    print\n",
    " \n",
    " \n",
    "print(\"\\n\")\n",
    "print(\"Prediction\")"
   ]
  },
  {
   "cell_type": "code",
   "execution_count": null,
   "metadata": {
    "collapsed": true
   },
   "outputs": [],
   "source": []
  }
 ],
 "metadata": {
  "kernelspec": {
   "display_name": "Python 3 (ipykernel)",
   "language": "python",
   "name": "python3"
  },
  "language_info": {
   "codemirror_mode": {
    "name": "ipython",
    "version": 3
   },
   "file_extension": ".py",
   "mimetype": "text/x-python",
   "name": "python",
   "nbconvert_exporter": "python",
   "pygments_lexer": "ipython3",
   "version": "3.11.5"
  }
 },
 "nbformat": 4,
 "nbformat_minor": 2
}
